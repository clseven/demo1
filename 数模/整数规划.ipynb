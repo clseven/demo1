{
 "cells": [
  {
   "cell_type": "markdown",
   "id": "4c783705",
   "metadata": {},
   "source": [
    "# 整数规划\n",
    "非线性整数规划可以用蒙特卡罗法"
   ]
  },
  {
   "cell_type": "code",
   "execution_count": 3,
   "id": "10269c67",
   "metadata": {},
   "outputs": [
    {
     "name": "stdout",
     "output_type": "stream",
     "text": [
      "[0 1 2 3]\n",
      "[0 2 3 1]\n",
      "163.89999999999998\n"
     ]
    }
   ],
   "source": [
    "#分配问题\n",
    "import numpy as np\n",
    "cost = np.array([[43.5, 45.5, 43.4, 46.5, 46.3],\n",
    "                 [47.1, 42.1, 39.1, 44.1, 47.8],\n",
    "                 [48.4, 49.6, 42.1, 44.5, 50.4],\n",
    "                 [38.2, 36.8, 43.2, 41.2, 37.2]])\n",
    "\n",
    "from scipy.optimize import linear_sum_assignment\n",
    "row_ind, col_ind = linear_sum_assignment(cost)\n",
    "print(row_ind)\n",
    "print(col_ind)\n",
    "print(cost[row_ind,col_ind].sum())"
   ]
  }
 ],
 "metadata": {
  "kernelspec": {
   "display_name": "Python 3 (ipykernel)",
   "language": "python",
   "name": "python3"
  },
  "language_info": {
   "codemirror_mode": {
    "name": "ipython",
    "version": 3
   },
   "file_extension": ".py",
   "mimetype": "text/x-python",
   "name": "python",
   "nbconvert_exporter": "python",
   "pygments_lexer": "ipython3",
   "version": "3.11.7"
  }
 },
 "nbformat": 4,
 "nbformat_minor": 5
}
