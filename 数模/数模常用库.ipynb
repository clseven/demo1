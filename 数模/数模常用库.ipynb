{
 "cells": [
  {
   "cell_type": "markdown",
   "id": "3d8b43fb",
   "metadata": {},
   "source": [
    "#### plt库（可视化）：\n",
    "https://matplotlib.org/stable/plot_types/basic/index.html"
   ]
  },
  {
   "cell_type": "markdown",
   "id": "a509b1a4",
   "metadata": {},
   "source": [
    "#### pandas库（表格处理）：\n",
    "https://pandas.pydata.org/docs/reference/index.html\n",
    "#### pandas中文文档：\n",
    "https://www.pypandas.cn/docs/getting_started/10min.html"
   ]
  },
  {
   "cell_type": "markdown",
   "id": "bef6e529",
   "metadata": {},
   "source": [
    "#### Numpy库：\n",
    "https://numpy.com.cn/doc/stable/reference/index.html"
   ]
  }
 ],
 "metadata": {
  "kernelspec": {
   "display_name": "Python 3 (ipykernel)",
   "language": "python",
   "name": "python3"
  },
  "language_info": {
   "codemirror_mode": {
    "name": "ipython",
    "version": 3
   },
   "file_extension": ".py",
   "mimetype": "text/x-python",
   "name": "python",
   "nbconvert_exporter": "python",
   "pygments_lexer": "ipython3",
   "version": "3.11.7"
  }
 },
 "nbformat": 4,
 "nbformat_minor": 5
}
