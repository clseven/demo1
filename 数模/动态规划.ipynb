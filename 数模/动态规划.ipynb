{
 "cells": [
  {
   "cell_type": "markdown",
   "id": "1873ed94",
   "metadata": {},
   "source": [
    "# 动态规划(dp)\n",
    "可以递归，状态转移方程"
   ]
  },
  {
   "cell_type": "code",
   "execution_count": 1,
   "id": "0089899b",
   "metadata": {},
   "outputs": [
    {
     "name": "stdout",
     "output_type": "stream",
     "text": [
      "100\n",
      "15\n"
     ]
    }
   ],
   "source": [
    "#找零问题\n",
    "\n",
    "n = int(input())\n",
    "\n",
    "dp = [float('inf')]*(n+1)\n",
    "dp[0] = 0\n",
    "for i in range(1,n+1):\n",
    "    if i >= 2:\n",
    "        dp[i] = min(dp[i],dp[i-2]+1)\n",
    "    if i >=5:\n",
    "        dp[i] = min(dp[i],dp[i-5]+1)\n",
    "    if i >=7:\n",
    "        dp[i] = min(dp[i],dp[i-7]+1)\n",
    "if dp[n] != float('inf'):\n",
    "    print(dp[n])"
   ]
  },
  {
   "cell_type": "code",
   "execution_count": null,
   "id": "8fb74544",
   "metadata": {},
   "outputs": [],
   "source": [
    "#背包问题"
   ]
  }
 ],
 "metadata": {
  "kernelspec": {
   "display_name": "Python 3 (ipykernel)",
   "language": "python",
   "name": "python3"
  },
  "language_info": {
   "codemirror_mode": {
    "name": "ipython",
    "version": 3
   },
   "file_extension": ".py",
   "mimetype": "text/x-python",
   "name": "python",
   "nbconvert_exporter": "python",
   "pygments_lexer": "ipython3",
   "version": "3.11.7"
  }
 },
 "nbformat": 4,
 "nbformat_minor": 5
}
